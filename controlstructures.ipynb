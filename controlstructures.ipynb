{
  "nbformat": 4,
  "nbformat_minor": 0,
  "metadata": {
    "colab": {
      "provenance": []
    },
    "kernelspec": {
      "name": "python3",
      "display_name": "Python 3"
    },
    "language_info": {
      "name": "python"
    }
  },
  "cells": [
    {
      "cell_type": "code",
      "execution_count": 1,
      "metadata": {
        "colab": {
          "base_uri": "https://localhost:8080/"
        },
        "id": "Qa8AbUOlOsgV",
        "outputId": "7d63158a-30de-466e-e3a8-3b96074627be"
      },
      "outputs": [
        {
          "output_type": "stream",
          "name": "stdout",
          "text": [
            "n is an even number\n"
          ]
        }
      ],
      "source": [
        "n = 10\n",
        "if n % 2 == 0:\n",
        "   print(\"n is an even number\")"
      ]
    },
    {
      "cell_type": "code",
      "source": [
        "n = 5\n",
        "if n % 2 == 0:\n",
        "   print(\"n is even\")\n",
        "else:\n",
        "   print(\"n is odd\")"
      ],
      "metadata": {
        "colab": {
          "base_uri": "https://localhost:8080/"
        },
        "id": "3KYrLDVJPG5M",
        "outputId": "d0d39a26-26ab-4087-a407-e15efef65f88"
      },
      "execution_count": 2,
      "outputs": [
        {
          "output_type": "stream",
          "name": "stdout",
          "text": [
            "n is odd\n"
          ]
        }
      ]
    },
    {
      "cell_type": "code",
      "source": [
        "a = 20\n",
        "b = 10\n",
        "c = 15\n",
        "if a > b:\n",
        "   if a > c:\n",
        "      print(\"a value is big\")\n",
        "   else:\n",
        "       print(\"c value is big\")\n",
        "elif b > c:\n",
        "    print(\"b value is big\")\n",
        "else:\n",
        "     print(\"c is big\")"
      ],
      "metadata": {
        "colab": {
          "base_uri": "https://localhost:8080/"
        },
        "id": "3kYptWjxPN6g",
        "outputId": "8a763e3f-e803-47ef-f053-e5321a9e7353"
      },
      "execution_count": 4,
      "outputs": [
        {
          "output_type": "stream",
          "name": "stdout",
          "text": [
            "a value is big\n"
          ]
        }
      ]
    },
    {
      "cell_type": "code",
      "source": [
        "x = 15\n",
        "y = 12\n",
        "if x == y:\n",
        "   print(\"Both are Equal\")\n",
        "elif x > y:\n",
        "    print(\"x is greater than y\")\n",
        "else:\n",
        "    print(\"x is smaller than y\")"
      ],
      "metadata": {
        "colab": {
          "base_uri": "https://localhost:8080/"
        },
        "id": "xvOOZdqcPVGp",
        "outputId": "9ac892c8-8df6-430d-f3ec-8bae28b76e51"
      },
      "execution_count": 5,
      "outputs": [
        {
          "output_type": "stream",
          "name": "stdout",
          "text": [
            "x is greater than y\n"
          ]
        }
      ]
    },
    {
      "cell_type": "code",
      "source": [
        "print(\"1st example\")\n",
        "\n",
        "lst = [1, 2, 3]\n",
        "for i in range(len(lst)):\n",
        "     print(lst[i], end = \" \\n\")\n",
        "\n",
        "print(\"2nd example\")\n",
        "\n",
        "for j in range(0,5):\n",
        "    print(j, end = \" \\n\")"
      ],
      "metadata": {
        "colab": {
          "base_uri": "https://localhost:8080/"
        },
        "id": "RWKC207FPX9C",
        "outputId": "5b98c368-d292-4de7-82be-5a4b190ea368"
      },
      "execution_count": 6,
      "outputs": [
        {
          "output_type": "stream",
          "name": "stdout",
          "text": [
            "1st example\n",
            "1 \n",
            "2 \n",
            "3 \n",
            "2nd example\n",
            "0 \n",
            "1 \n",
            "2 \n",
            "3 \n",
            "4 \n"
          ]
        }
      ]
    },
    {
      "cell_type": "code",
      "source": [
        "m = 5\n",
        "i = 0\n",
        "while i < m:\n",
        "     print(i, end = \" \")\n",
        "     i = i + 1\n",
        "print(\"End\")"
      ],
      "metadata": {
        "colab": {
          "base_uri": "https://localhost:8080/"
        },
        "id": "WBsV1xM8PrNX",
        "outputId": "8635637e-3aec-4693-9ff4-cc792bb2290a"
      },
      "execution_count": 7,
      "outputs": [
        {
          "output_type": "stream",
          "name": "stdout",
          "text": [
            "0 1 2 3 4 End\n"
          ]
        }
      ]
    }
  ]
}