{
  "nbformat": 4,
  "nbformat_minor": 0,
  "metadata": {
    "colab": {
      "provenance": []
    },
    "kernelspec": {
      "name": "python3",
      "display_name": "Python 3"
    },
    "language_info": {
      "name": "python"
    }
  },
  "cells": [
    {
      "cell_type": "code",
      "execution_count": null,
      "metadata": {
        "colab": {
          "base_uri": "https://localhost:8080/"
        },
        "id": "uzNApKXIAUkO",
        "outputId": "414d9076-a151-4d1b-e930-570d2a9100af"
      },
      "outputs": [
        {
          "output_type": "stream",
          "name": "stdout",
          "text": [
            "Probability of spam: [0.50000611]\n"
          ]
        }
      ],
      "source": [
        "import numpy as np\n",
        "from sklearn.linear_model import LogisticRegression\n",
        "\n",
        "# Example data\n",
        "word_count = np.array([50, 200, 120, 80, 150, 30]).reshape(-1, 1)  # Input feature\n",
        "labels = np.array([0, 1, 1, 0, 1, 0])  # Output labels (0 or 1)\n",
        "\n",
        "# Create and train the logistic regression model\n",
        "model = LogisticRegression()\n",
        "model.fit(word_count, labels)\n",
        "# Predict the probability of an email with 100 words being spam\n",
        "new_word_count = np.array([100]).reshape(-1, 1)\n",
        "probability = model.predict_proba(new_word_count)[:, 1]\n",
        "print(\"Probability of spam:\", probability)"
      ]
    }
  ]
}